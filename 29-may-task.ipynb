{
 "cells": [
  {
   "cell_type": "code",
   "execution_count": 9,
   "id": "91942b1d",
   "metadata": {},
   "outputs": [
    {
     "name": "stdout",
     "output_type": "stream",
     "text": [
      "* \n",
      "* * \n",
      "* * * \n",
      "* * * * \n",
      "* * * * * \n",
      "* * * * * * \n",
      "* * * * * * * \n",
      "* * * * * * * * \n"
     ]
    }
   ],
   "source": [
    "#q1\n",
    "n = 9\n",
    "i = 1\n",
    "while i < n:\n",
    "    print('* '*i)\n",
    "    i += 1"
   ]
  },
  {
   "cell_type": "code",
   "execution_count": 20,
   "id": "517bfbae",
   "metadata": {},
   "outputs": [
    {
     "name": "stdout",
     "output_type": "stream",
     "text": [
      "A\n",
      "B H\n",
      "C I N\n",
      "D J O S\n",
      "E K P T W\n",
      "F L Q U X Z\n",
      "G M R V Y\n"
     ]
    }
   ],
   "source": [
    "#q2\n",
    "l = ['A','BH','CIN','DJOS','EKPTW','FLQUXZ','GMRVY']\n",
    "\n",
    "i = 0\n",
    "n = len(l)\n",
    "\n",
    "while i < n:\n",
    "    print(' '.join(i for i in l[i]))\n",
    "    i += 1\n"
   ]
  },
  {
   "cell_type": "code",
   "execution_count": 21,
   "id": "e7e32655",
   "metadata": {},
   "outputs": [
    {
     "name": "stdout",
     "output_type": "stream",
     "text": [
      "42\n",
      "45\n",
      "48\n",
      "51\n",
      "54\n",
      "57\n",
      "60\n",
      "63\n",
      "66\n",
      "69\n",
      "72\n",
      "75\n",
      "78\n",
      "81\n",
      "84\n",
      "87\n",
      "90\n",
      "93\n",
      "96\n",
      "99\n",
      "102\n",
      "105\n",
      "108\n",
      "111\n",
      "114\n",
      "117\n",
      "120\n",
      "123\n",
      "126\n",
      "129\n",
      "132\n",
      "135\n",
      "138\n",
      "141\n",
      "144\n",
      "147\n",
      "150\n",
      "153\n",
      "156\n",
      "159\n",
      "162\n",
      "165\n",
      "168\n",
      "171\n",
      "174\n",
      "177\n",
      "180\n",
      "183\n",
      "186\n",
      "189\n",
      "192\n",
      "195\n",
      "198\n",
      "201\n",
      "204\n",
      "207\n",
      "210\n",
      "213\n",
      "216\n",
      "219\n",
      "222\n",
      "225\n",
      "228\n",
      "231\n",
      "234\n",
      "237\n",
      "240\n",
      "243\n",
      "246\n",
      "249\n",
      "252\n",
      "255\n",
      "258\n",
      "261\n",
      "264\n",
      "267\n",
      "270\n",
      "273\n",
      "276\n",
      "279\n",
      "282\n",
      "285\n",
      "288\n",
      "291\n",
      "294\n",
      "297\n",
      "300\n",
      "303\n",
      "306\n",
      "309\n",
      "312\n",
      "315\n",
      "318\n",
      "321\n",
      "324\n",
      "327\n",
      "330\n",
      "333\n",
      "336\n",
      "339\n",
      "342\n",
      "345\n",
      "348\n",
      "351\n",
      "354\n",
      "357\n",
      "360\n",
      "363\n",
      "366\n",
      "369\n",
      "372\n",
      "375\n",
      "378\n",
      "381\n",
      "384\n",
      "387\n",
      "390\n",
      "393\n",
      "396\n",
      "399\n"
     ]
    }
   ],
   "source": [
    "#q3\n",
    "for i in range(40,400):\n",
    "    if(i%3):\n",
    "        continue\n",
    "    print(i)"
   ]
  },
  {
   "cell_type": "code",
   "execution_count": 3,
   "id": "d40c3177",
   "metadata": {},
   "outputs": [
    {
     "name": "stdout",
     "output_type": "stream",
     "text": [
      "o i e a u\n"
     ]
    }
   ],
   "source": [
    "#q4\n",
    "s =  \"\"\"Python is a high-level, interpreted, general-purpose programming language. Its design philosophy emphasizes code readability with the use of significant indentation.[32]\n",
    "\n",
    "Python is dynamically-typed and garbage-collected. It supports multiple programming paradigms, including structured (particularly procedural), object-oriented and functional programming. It is often described as a \"batteries included\" language due to its comprehensive standard library.[33][34]\n",
    "\n",
    "Guido van Rossum began working on Python in the late 1980s as a successor to the ABC programming language and first released it in 1991 as Python 0.9.0.[35] Python 2.0 was released in 2000 and introduced new features such as list comprehensions, cycle-detecting garbage collection, reference counting, and Unicode support. Python 3.0, released in 2008, was a major revision that is not completely backward-compatible with earlier versions. Python 2 was discontinued with version 2.7.18 in 2020.[36]\n",
    "\n",
    "Python consistently ranks as one of the most popular programming languagesc\"\"\" \n",
    "\n",
    "vowels = ['a','e','i','o','u']\n",
    "\n",
    "n = len(s)\n",
    "i = 0\n",
    "vowels_in_s = []\n",
    "while i < n:\n",
    "    if s[i] in vowels:\n",
    "        vowels_in_s.append(s[i])\n",
    "    i += 1\n",
    "print(\" \".join(list(set(vowels_in_s))))"
   ]
  },
  {
   "cell_type": "code",
   "execution_count": 28,
   "id": "0a1c448a",
   "metadata": {},
   "outputs": [
    {
     "name": "stdout",
     "output_type": "stream",
     "text": [
      "2 4 6 8 10 12 14 16 18 20 22 24 26 28 30 32 34 36 38 40 42 44 46 48 50 52 54 56 58 60 62 64 66 68 70 72 74 76 78 80 82 84 86 88 90 92 94 96 98 100 102 104 106 108 110 112 114 116 118 120 122 124 126 128 130 132 134 136 138 140 142 144 146 148 150 152 154 156 158 160 162 164 166 168 170 172 174 176 178 180 182 184 186 188 190 192 194 196 198 200 202 204 206 208 210 212 214 216 218 220 222 224 226 228 230 232 234 236 238 240 242 244 246 248 250 252 254 256 258 260 262 264 266 268 270 272 274 276 278 280 282 284 286 288 290 292 294 296 298 300 302 304 306 308 310 312 314 316 318 320 322 324 326 328 330 332 334 336 338 340 342 344 346 348 350 352 354 356 358 360 362 364 366 368 370 372 374 376 378 380 382 384 386 388 390 392 394 396 398 400 402 404 406 408 410 412 414 416 418 420 422 424 426 428 430 432 434 436 438 440 442 444 446 448 450 452 454 456 458 460 462 464 466 468 470 472 474 476 478 480 482 484 486 488 490 492 494 496 498 500 502 504 506 508 510 512 514 516 518 520 522 524 526 528 530 532 534 536 538 540 542 544 546 548 550 552 554 556 558 560 562 564 566 568 570 572 574 576 578 580 582 584 586 588 590 592 594 596 598 600 602 604 606 608 610 612 614 616 618 620 622 624 626 628 630 632 634 636 638 640 642 644 646 648 650 652 654 656 658 660 662 664 666 668 670 672 674 676 678 680 682 684 686 688 690 692 694 696 698 700 702 704 706 708 710 712 714 716 718 720 722 724 726 728 730 732 734 736 738 740 742 744 746 748 750 752 754 756 758 760 762 764 766 768 770 772 774 776 778 780 782 784 786 788 790 792 794 796 798 800 802 804 806 808 810 812 814 816 818 820 822 824 826 828 830 832 834 836 838 840 842 844 846 848 850 852 854 856 858 860 862 864 866 868 870 872 874 876 878 880 882 884 886 888 890 892 894 896 898 900 902 904 906 908 910 912 914 916 918 920 922 924 926 928 930 932 934 936 938 940 942 944 946 948 950 952 954 956 958 960 962 964 966 968 970 972 974 976 978 980 982 984 986 988 990 992 994 996 998 1000\n"
     ]
    }
   ],
   "source": [
    "#q5\n",
    "print(' '.join(str(i) for i in range(2,1001,2) ))"
   ]
  },
  {
   "cell_type": "code",
   "execution_count": 34,
   "id": "e7afa8a3",
   "metadata": {},
   "outputs": [
    {
     "name": "stdout",
     "output_type": "stream",
     "text": [
      "2 4 6 8 10 12 14 16 18 20 22 24 26 28 30 32 34 36 38 40 42 44 46 48 50 52 54 56 58 60 62 64 66 68 70 72 74 76 78 80 82 84 86 88 90 92 94 96 98 100 102 104 106 108 110 112 114 116 118 120 122 124 126 128 130 132 134 136 138 140 142 144 146 148 150 152 154 156 158 160 162 164 166 168 170 172 174 176 178 180 182 184 186 188 190 192 194 196 198 200 202 204 206 208 210 212 214 216 218 220 222 224 226 228 230 232 234 236 238 240 242 244 246 248 250 252 254 256 258 260 262 264 266 268 270 272 274 276 278 280 282 284 286 288 290 292 294 296 298 300 302 304 306 308 310 312 314 316 318 320 322 324 326 328 330 332 334 336 338 340 342 344 346 348 350 352 354 356 358 360 362 364 366 368 370 372 374 376 378 380 382 384 386 388 390 392 394 396 398 400 402 404 406 408 410 412 414 416 418 420 422 424 426 428 430 432 434 436 438 440 442 444 446 448 450 452 454 456 458 460 462 464 466 468 470 472 474 476 478 480 482 484 486 488 490 492 494 496 498 500 502 504 506 508 510 512 514 516 518 520 522 524 526 528 530 532 534 536 538 540 542 544 546 548 550 552 554 556 558 560 562 564 566 568 570 572 574 576 578 580 582 584 586 588 590 592 594 596 598 600 602 604 606 608 610 612 614 616 618 620 622 624 626 628 630 632 634 636 638 640 642 644 646 648 650 652 654 656 658 660 662 664 666 668 670 672 674 676 678 680 682 684 686 688 690 692 694 696 698 700 702 704 706 708 710 712 714 716 718 720 722 724 726 728 730 732 734 736 738 740 742 744 746 748 750 752 754 756 758 760 762 764 766 768 770 772 774 776 778 780 782 784 786 788 790 792 794 796 798 800 802 804 806 808 810 812 814 816 818 820 822 824 826 828 830 832 834 836 838 840 842 844 846 848 850 852 854 856 858 860 862 864 866 868 870 872 874 876 878 880 882 884 886 888 890 892 894 896 898 900 902 904 906 908 910 912 914 916 918 920 922 924 926 928 930 932 934 936 938 940 942 944 946 948 950 952 954 956 958 960 962 964 966 968 970 972 974 976 978 980 982 984 986 988 990 992 994 996 998 1000\n"
     ]
    }
   ],
   "source": [
    "#q6\n",
    "\n",
    "def q1(n):\n",
    "    i = 1\n",
    "    while i < n:\n",
    "        print('* '*i)\n",
    "        i += 1\n",
    "def q2():\n",
    "    l = ['A','BH','CIN','DJOS','EKPTW','FLQUXZ','GMRVY']\n",
    "\n",
    "    i = 0\n",
    "    n = len(l)\n",
    "\n",
    "    while i < n:\n",
    "        print(' '.join(i for i in l[i]))\n",
    "        i += 1\n",
    "def q3():\n",
    "    for i in range(40,400):\n",
    "        if(i%3):\n",
    "            continue\n",
    "        print(i)\n",
    "def q4(s):\n",
    "    vowels = ['a','e','i','o','u']\n",
    "\n",
    "    n = len(s)\n",
    "    i = 0\n",
    "\n",
    "    while i < n:\n",
    "        if s[i] in vowels:\n",
    "            print(s[i])\n",
    "        i += 1\n",
    "def q5():\n",
    "    print(' '.join(str(i) for i in range(2,1001,2) ))\n",
    "\n"
   ]
  },
  {
   "cell_type": "code",
   "execution_count": 46,
   "id": "1094c723",
   "metadata": {},
   "outputs": [
    {
     "name": "stdout",
     "output_type": "stream",
     "text": [
      "Current Time  22:41:33\n"
     ]
    }
   ],
   "source": [
    "#q7\n",
    "from datetime import datetime\n",
    "current_time = datetime.now()\n",
    "print(\"Current Time \",current_time.strftime(\"%H:%M:%S\"))"
   ]
  },
  {
   "cell_type": "code",
   "execution_count": 54,
   "id": "bc4ea653",
   "metadata": {},
   "outputs": [
    {
     "name": "stdout",
     "output_type": "stream",
     "text": [
      "Today's date 31:05:2022\n"
     ]
    }
   ],
   "source": [
    "#q8\n",
    "from datetime import date\n",
    "date = datetime.today()\n",
    "print(\"Today's date\", date.strftime(\"%d:%m:%Y\"))"
   ]
  },
  {
   "cell_type": "code",
   "execution_count": 62,
   "id": "bce0365a",
   "metadata": {},
   "outputs": [
    {
     "name": "stdout",
     "output_type": "stream",
     "text": [
      "IP Address 127.0.0.1\n"
     ]
    }
   ],
   "source": [
    "#q11\n",
    "import socket\n",
    "\n",
    "print('IP Address',socket.gethostbyname(socket.gethostname()))"
   ]
  },
  {
   "cell_type": "code",
   "execution_count": 8,
   "id": "daee8742",
   "metadata": {},
   "outputs": [
    {
     "name": "stdout",
     "output_type": "stream",
     "text": [
      "0\n"
     ]
    }
   ],
   "source": [
    "#q12\n",
    "\n",
    "import subprocess\n",
    "import os\n",
    "\n",
    "print(os.system(\"afplay test.mp3\"))\n"
   ]
  },
  {
   "cell_type": "code",
   "execution_count": 9,
   "id": "166e9841",
   "metadata": {},
   "outputs": [
    {
     "data": {
      "text/plain": [
       "0"
      ]
     },
     "execution_count": 9,
     "metadata": {},
     "output_type": "execute_result"
    }
   ],
   "source": [
    "#q13\n",
    "import gtts\n",
    "\n",
    "import os\n",
    "\n",
    "text = 'Hi My name is Ravindra'\n",
    "myobj = gtts.gTTS(text = text , lang = 'en' , slow = False)\n",
    "\n",
    "myobj.save('test.mp3')\n",
    "\n",
    "os.system(\"afplay test.mp3\")"
   ]
  },
  {
   "cell_type": "code",
   "execution_count": 78,
   "id": "af128a50",
   "metadata": {},
   "outputs": [
    {
     "data": {
      "text/plain": [
       "8"
      ]
     },
     "execution_count": 78,
     "metadata": {},
     "output_type": "execute_result"
    }
   ],
   "source": [
    "#q14\n",
    "def len_string(s):\n",
    "    counter = 0\n",
    "    for i in s:\n",
    "        counter += 1\n",
    "    return counter\n",
    "len_string('Ravindra')"
   ]
  },
  {
   "cell_type": "code",
   "execution_count": 89,
   "id": "823a487a",
   "metadata": {},
   "outputs": [
    {
     "data": {
      "text/plain": [
       "[1, 2, 3, 4]"
      ]
     },
     "execution_count": 89,
     "metadata": {},
     "output_type": "execute_result"
    }
   ],
   "source": [
    "#q16\n",
    "def values(d):\n",
    "    l = []\n",
    "    for i in d:\n",
    "        if type(d[i]) == dict:\n",
    "            l.extend(d[i].values())\n",
    "            continue\n",
    "        l.append(d[i])\n",
    "    return l\n",
    "values({'key1':1,'key2':2,'key3':{'nested_key1':3,'nested_key2':4}})"
   ]
  },
  {
   "cell_type": "code",
   "execution_count": 91,
   "id": "5529f1f2",
   "metadata": {},
   "outputs": [
    {
     "data": {
      "text/plain": [
       "[1, 2, 3, 4, 5, 6]"
      ]
     },
     "execution_count": 91,
     "metadata": {},
     "output_type": "execute_result"
    }
   ],
   "source": [
    "#q17\n",
    "def list_concat(*args):\n",
    "    return [i[j] for i in args for j in range(len(i))]\n",
    "list_concat([1,2,3],[4,5,6])"
   ]
  },
  {
   "cell_type": "code",
   "execution_count": null,
   "id": "450ddba7",
   "metadata": {},
   "outputs": [],
   "source": [
    "#q18"
   ]
  }
 ],
 "metadata": {
  "kernelspec": {
   "display_name": "Python 3 (ipykernel)",
   "language": "python",
   "name": "python3"
  },
  "language_info": {
   "codemirror_mode": {
    "name": "ipython",
    "version": 3
   },
   "file_extension": ".py",
   "mimetype": "text/x-python",
   "name": "python",
   "nbconvert_exporter": "python",
   "pygments_lexer": "ipython3",
   "version": "3.9.7"
  }
 },
 "nbformat": 4,
 "nbformat_minor": 5
}
