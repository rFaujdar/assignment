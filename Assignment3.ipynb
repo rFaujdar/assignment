{
 "cells": [
  {
   "cell_type": "markdown",
   "id": "6b9be0c6",
   "metadata": {},
   "source": [
    "#1\n",
    "function is advantageous because we can use repeated code rather then writing it out multiple times."
   ]
  },
  {
   "cell_type": "markdown",
   "id": "c8985069",
   "metadata": {},
   "source": [
    "#2\n",
    "function will run when it's called."
   ]
  },
  {
   "cell_type": "markdown",
   "id": "d27065e9",
   "metadata": {},
   "source": [
    "#3\n",
    "def function_name(): used to create a function"
   ]
  },
  {
   "cell_type": "markdown",
   "id": "0e3d2ebe",
   "metadata": {},
   "source": [
    "#4\n",
    "function is a block of code that will give some result while function call, is a expression that calls a function and gives control flow and arguments to a function."
   ]
  },
  {
   "cell_type": "markdown",
   "id": "26a4b2b7",
   "metadata": {},
   "source": [
    "#5\n",
    "there is only one global scope in program but there could be more than one local scope in a program"
   ]
  },
  {
   "cell_type": "markdown",
   "id": "1e44f313",
   "metadata": {},
   "source": [
    "#6\n",
    "after function return the scope of local variable goes out of existence and we can't used it further."
   ]
  },
  {
   "cell_type": "markdown",
   "id": "03771dee",
   "metadata": {},
   "source": [
    "#7\n",
    "return will pass the control flow back to the function call and return the result where function got called.\n"
   ]
  },
  {
   "cell_type": "markdown",
   "id": "5e4f07a0",
   "metadata": {},
   "source": [
    "#8\n",
    "if a function doen not have a return statement , then the return value will be None"
   ]
  },
  {
   "cell_type": "markdown",
   "id": "950b42dd",
   "metadata": {},
   "source": [
    "#9\n",
    "To make a function variable refer to the global variable we can use global keyword"
   ]
  },
  {
   "cell_type": "markdown",
   "id": "b9858623",
   "metadata": {},
   "source": [
    "#10\n",
    "data type of None is NoneType"
   ]
  },
  {
   "cell_type": "markdown",
   "id": "fd9965d5",
   "metadata": {},
   "source": [
    "#11\n",
    "It will import the module named areallyourpetsnamederic"
   ]
  },
  {
   "cell_type": "markdown",
   "id": "0930c66f",
   "metadata": {},
   "source": [
    "#12\n",
    "import spam\n",
    "after importing spam we can call bacon() by\n",
    "spam.bacon()"
   ]
  },
  {
   "cell_type": "markdown",
   "id": "096063f8",
   "metadata": {},
   "source": [
    "#13\n",
    "we can use exception handling"
   ]
  },
  {
   "cell_type": "markdown",
   "id": "167ca1e3",
   "metadata": {},
   "source": [
    "#14\n",
    "block of code which are subjected to cause error are placed in try clause and the code inside the except clause will exceute whenever the program encounter some error preceding try block."
   ]
  }
 ],
 "metadata": {
  "kernelspec": {
   "display_name": "Python 3 (ipykernel)",
   "language": "python",
   "name": "python3"
  },
  "language_info": {
   "codemirror_mode": {
    "name": "ipython",
    "version": 3
   },
   "file_extension": ".py",
   "mimetype": "text/x-python",
   "name": "python",
   "nbconvert_exporter": "python",
   "pygments_lexer": "ipython3",
   "version": "3.9.7"
  }
 },
 "nbformat": 4,
 "nbformat_minor": 5
}
