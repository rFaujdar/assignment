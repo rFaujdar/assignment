{
 "cells": [
  {
   "cell_type": "code",
   "execution_count": 2,
   "id": "bc8ae911",
   "metadata": {},
   "outputs": [
    {
     "name": "stdout",
     "output_type": "stream",
     "text": [
      "h   r tnrrmglsnimeNGyosi dtfco\n"
     ]
    }
   ],
   "source": [
    "s = \"this is My First Python programming class and i am learNING python string and its function\"\n",
    "#1 Try to extract data from index one to index 300 with a jump of 3 \n",
    "print(s[1:300:3])"
   ]
  },
  {
   "cell_type": "markdown",
   "id": "a9c88a23",
   "metadata": {},
   "source": [
    "2. Try to reverse a string without using reverse function "
   ]
  },
  {
   "cell_type": "code",
   "execution_count": 3,
   "id": "651e9ec1",
   "metadata": {},
   "outputs": [
    {
     "name": "stdout",
     "output_type": "stream",
     "text": [
      "noitcnuf sti dna gnirts nohtyp GNINrael ma i dna ssalc gnimmargorp nohtyP tsriF yM si siht\n"
     ]
    }
   ],
   "source": [
    "print(s[::-1])"
   ]
  },
  {
   "cell_type": "markdown",
   "id": "f178e715",
   "metadata": {},
   "source": [
    "3. Try to split a string after conversion of entire string in uppercase "
   ]
  },
  {
   "cell_type": "code",
   "execution_count": 4,
   "id": "ec7e88d7",
   "metadata": {},
   "outputs": [
    {
     "data": {
      "text/plain": [
       "'NOITCNUF STI DNA GNIRTS NOHTYP GNINRAEL MA I DNA SSALC GNIMMARGORP NOHTYP TSRIF YM SI SIHT'"
      ]
     },
     "execution_count": 4,
     "metadata": {},
     "output_type": "execute_result"
    }
   ],
   "source": [
    "s.upper()[::-1]"
   ]
  },
  {
   "cell_type": "markdown",
   "id": "c4318b7d",
   "metadata": {},
   "source": [
    "4. try to convert the whole string into lower case "
   ]
  },
  {
   "cell_type": "code",
   "execution_count": 6,
   "id": "d99b6a26",
   "metadata": {},
   "outputs": [
    {
     "data": {
      "text/plain": [
       "'this is my first python programming class and i am learning python string and its function'"
      ]
     },
     "execution_count": 6,
     "metadata": {},
     "output_type": "execute_result"
    }
   ],
   "source": [
    "s.lower()"
   ]
  },
  {
   "cell_type": "markdown",
   "id": "5c860c42",
   "metadata": {},
   "source": [
    "5 . Try to capitalize the whole string "
   ]
  },
  {
   "cell_type": "code",
   "execution_count": 7,
   "id": "ac5ac217",
   "metadata": {},
   "outputs": [
    {
     "data": {
      "text/plain": [
       "'This is my first python programming class and i am learning python string and its function'"
      ]
     },
     "execution_count": 7,
     "metadata": {},
     "output_type": "execute_result"
    }
   ],
   "source": [
    "s.capitalize()"
   ]
  },
  {
   "cell_type": "markdown",
   "id": "ef742afe",
   "metadata": {},
   "source": [
    "6 . Write a diference between isalnum() and isalpha()"
   ]
  },
  {
   "cell_type": "markdown",
   "id": "0e2fef14",
   "metadata": {},
   "source": [
    "isalnum() returns true if string contains alphabets or numbers and isalpha() returns true if all characters are alphabets"
   ]
  },
  {
   "cell_type": "markdown",
   "id": "3de284be",
   "metadata": {},
   "source": [
    "7. Try to give an example of expand tab"
   ]
  },
  {
   "cell_type": "code",
   "execution_count": 9,
   "id": "9463e687",
   "metadata": {},
   "outputs": [
    {
     "data": {
      "text/plain": [
       "'expand  tabs'"
      ]
     },
     "execution_count": 9,
     "metadata": {},
     "output_type": "execute_result"
    }
   ],
   "source": [
    "s1 = 'expand\\ttabs'\n",
    "s1.expandtabs()"
   ]
  },
  {
   "cell_type": "markdown",
   "id": "18531d2d",
   "metadata": {},
   "source": [
    "8 . Give an example of strip , lstrip and rstrip "
   ]
  },
  {
   "cell_type": "code",
   "execution_count": 17,
   "id": "22fbb765",
   "metadata": {},
   "outputs": [
    {
     "name": "stdout",
     "output_type": "stream",
     "text": [
      "example\n",
      "example     \n",
      "     example\n"
     ]
    }
   ],
   "source": [
    "s2 = '     example     '\n",
    "print(s2.strip())\n",
    "print(s2.lstrip())\n",
    "print(s2.rstrip())"
   ]
  },
  {
   "cell_type": "markdown",
   "id": "2606919e",
   "metadata": {},
   "source": [
    "9.  Replace a string charecter by another charector by taking your own example "
   ]
  },
  {
   "cell_type": "code",
   "execution_count": 21,
   "id": "fba286ea",
   "metadata": {},
   "outputs": [
    {
     "name": "stdout",
     "output_type": "stream",
     "text": [
      "examreplacedle\n"
     ]
    }
   ],
   "source": [
    "s3 = 'example'\n",
    "print(s3.replace('p','replaced'))"
   ]
  },
  {
   "cell_type": "markdown",
   "id": "908cf9e3",
   "metadata": {},
   "source": [
    "10 . Try  to give a defination of string center function with and exmple "
   ]
  },
  {
   "cell_type": "markdown",
   "id": "e0760254",
   "metadata": {},
   "source": [
    "center function creates a string of length given by placing original string in center and add character passed in method on empty places"
   ]
  },
  {
   "cell_type": "code",
   "execution_count": 24,
   "id": "5f7280fc",
   "metadata": {},
   "outputs": [
    {
     "data": {
      "text/plain": [
       "'######example#######'"
      ]
     },
     "execution_count": 24,
     "metadata": {},
     "output_type": "execute_result"
    }
   ],
   "source": [
    "s3.center(20,'#')"
   ]
  },
  {
   "cell_type": "markdown",
   "id": "f61c29f0",
   "metadata": {},
   "source": [
    "11 . Write your own definition of compiler and interpretor without copy paste form internet in your own language"
   ]
  },
  {
   "cell_type": "markdown",
   "id": "5958fad9",
   "metadata": {},
   "source": [
    "compiler and interpretor are programs which translates the code written in any high level language to a machine language."
   ]
  },
  {
   "cell_type": "markdown",
   "id": "8c050f2e",
   "metadata": {},
   "source": [
    "12 . Python is a interpreted of compiled language give a clear ans with your understanding "
   ]
  },
  {
   "cell_type": "markdown",
   "id": "f4879170",
   "metadata": {},
   "source": [
    "python is both compiled and interpreted language, first python program compiled and byte code generated then this byte code gets converted by the python virtual machine."
   ]
  },
  {
   "cell_type": "markdown",
   "id": "d6d8fc66",
   "metadata": {},
   "source": [
    "13 . Try to write a usecase of python with your understanding ."
   ]
  },
  {
   "cell_type": "markdown",
   "id": "2fc11086",
   "metadata": {},
   "source": [
    "Data Science,\n",
    "Game Development,\n",
    "Web Applications,\n",
    "Software Developments."
   ]
  },
  {
   "cell_type": "code",
   "execution_count": null,
   "id": "b43f4be2",
   "metadata": {},
   "outputs": [],
   "source": []
  }
 ],
 "metadata": {
  "kernelspec": {
   "display_name": "Python 3 (ipykernel)",
   "language": "python",
   "name": "python3"
  },
  "language_info": {
   "codemirror_mode": {
    "name": "ipython",
    "version": 3
   },
   "file_extension": ".py",
   "mimetype": "text/x-python",
   "name": "python",
   "nbconvert_exporter": "python",
   "pygments_lexer": "ipython3",
   "version": "3.9.7"
  }
 },
 "nbformat": 4,
 "nbformat_minor": 5
}
