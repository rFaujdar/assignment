{
 "cells": [
  {
   "cell_type": "code",
   "execution_count": null,
   "id": "a6bd2cbb",
   "metadata": {},
   "outputs": [],
   "source": [
    "#1\n",
    "Two values of boolean data type\n",
    "True\n",
    "False"
   ]
  },
  {
   "cell_type": "code",
   "execution_count": null,
   "id": "2452b77f",
   "metadata": {},
   "outputs": [],
   "source": [
    "#2\n",
    "and\n",
    "or\n",
    "not"
   ]
  },
  {
   "cell_type": "code",
   "execution_count": null,
   "id": "13c8f152",
   "metadata": {},
   "outputs": [],
   "source": [
    "#3\n",
    "#and Truth table\n",
    "A     B      A and B\n",
    "False False  False\n",
    "False True   False\n",
    "True  False  False\n",
    "True  True   True\n",
    "\n",
    "#or truth table\n",
    "A     B      A or B\n",
    "False False  False\n",
    "False True   True\n",
    "True  False  True\n",
    "True  True   True\n",
    "\n",
    "#not truth table\n",
    "\n",
    "A       not A\n",
    "True    False\n",
    "False   True"
   ]
  },
  {
   "cell_type": "code",
   "execution_count": null,
   "id": "dc48fcd0",
   "metadata": {},
   "outputs": [],
   "source": [
    "#4\n",
    "(5>4) and (3==5)--> False\n",
    "not(5>4)--> False\n",
    "(5>4) or (3==5)--> True\n",
    "not((5>4) or (3==5))--> False\n",
    "(True and True) and (True==False)--> False\n",
    "(not False) or (not True)--> True"
   ]
  },
  {
   "cell_type": "code",
   "execution_count": null,
   "id": "301c663a",
   "metadata": {},
   "outputs": [],
   "source": [
    "#5\n",
    "comparison operator\n",
    "== equals\n",
    "!= not equal\n",
    "< less than\n",
    "> greater than\n",
    "<= less than or equals to\n",
    ">= greater than or equals to"
   ]
  },
  {
   "cell_type": "code",
   "execution_count": null,
   "id": "ead0a553",
   "metadata": {},
   "outputs": [],
   "source": [
    "#6\n",
    "equals to --> ==\n",
    "assignment --> =\n",
    "var = 123\n",
    "var == 123"
   ]
  },
  {
   "cell_type": "code",
   "execution_count": null,
   "id": "36647366",
   "metadata": {},
   "outputs": [],
   "source": [
    "#7\n",
    "#first block\n",
    "if spam == 10:\n",
    "    print('eggs')\n",
    "#second block\n",
    "if spam>5:\n",
    "    print('bacon')\n",
    "#third block\n",
    "    else:\n",
    "    print('ham')"
   ]
  },
  {
   "cell_type": "code",
   "execution_count": null,
   "id": "44585f2f",
   "metadata": {},
   "outputs": [],
   "source": [
    "#8\n",
    "spam = 0\n",
    "\n",
    "if spam == 1:\n",
    "    print('Hello')\n",
    "elif spam == 2:\n",
    "    print('Howdy')\n",
    "else:\n",
    "    print('Greetings! if anything else stored in spam')"
   ]
  },
  {
   "cell_type": "code",
   "execution_count": null,
   "id": "2a4652f7",
   "metadata": {},
   "outputs": [],
   "source": [
    "#9\n",
    "ctrl + c"
   ]
  },
  {
   "cell_type": "code",
   "execution_count": null,
   "id": "ed19cdb6",
   "metadata": {},
   "outputs": [],
   "source": [
    "#10\n",
    "break moves the code flow out from the block of a code\n",
    "and continue will skip "
   ]
  },
  {
   "cell_type": "code",
   "execution_count": null,
   "id": "32ab01b6",
   "metadata": {},
   "outputs": [],
   "source": [
    "#11\n",
    "range(10) , range(0,10) , range(0,10,1) all three are same and will give same values to a for loop"
   ]
  },
  {
   "cell_type": "code",
   "execution_count": 13,
   "id": "4421469e",
   "metadata": {},
   "outputs": [
    {
     "name": "stdout",
     "output_type": "stream",
     "text": [
      "1 2 3 4 5 6 7 8 9 10 \n",
      "1 2 3 4 5 6 7 8 9 10 "
     ]
    }
   ],
   "source": [
    "#12\n",
    "for i in range(10):\n",
    "    print(i+1 , end = ' ')\n",
    "print()\n",
    "j = 0\n",
    "while j<10:\n",
    "    print(j+1 , end = ' ')\n",
    "    j += 1"
   ]
  },
  {
   "cell_type": "code",
   "execution_count": null,
   "id": "f5d219b3",
   "metadata": {},
   "outputs": [],
   "source": [
    "#13\n",
    "import spam\n",
    "spam.bacon()"
   ]
  }
 ],
 "metadata": {
  "kernelspec": {
   "display_name": "Python 3 (ipykernel)",
   "language": "python",
   "name": "python3"
  },
  "language_info": {
   "codemirror_mode": {
    "name": "ipython",
    "version": 3
   },
   "file_extension": ".py",
   "mimetype": "text/x-python",
   "name": "python",
   "nbconvert_exporter": "python",
   "pygments_lexer": "ipython3",
   "version": "3.9.7"
  }
 },
 "nbformat": 4,
 "nbformat_minor": 5
}
