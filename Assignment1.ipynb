{
 "cells": [
  {
   "cell_type": "code",
   "execution_count": null,
   "id": "60bf88f6",
   "metadata": {},
   "outputs": [],
   "source": [
    "#1\n",
    "* -> operator\n",
    "'hello' -> value\n",
    "-87.8 -> value\n",
    "- operator\n",
    "/ operator\n",
    "+ operator\n",
    "6 value"
   ]
  },
  {
   "cell_type": "code",
   "execution_count": null,
   "id": "de903dd7",
   "metadata": {},
   "outputs": [],
   "source": [
    "#2\n",
    "string is a value and variable is a name that will assign to a value"
   ]
  },
  {
   "cell_type": "code",
   "execution_count": null,
   "id": "286f945e",
   "metadata": {},
   "outputs": [],
   "source": [
    "#3\n",
    "int --> postitve or negative whole numbers\n",
    "string --> collection of characters within single or double quotes\n",
    "list --> It's is collection of one or more types of objects , it is mutable and iterable object in python"
   ]
  },
  {
   "cell_type": "code",
   "execution_count": null,
   "id": "7fb54c3d",
   "metadata": {},
   "outputs": [],
   "source": [
    "#4\n",
    "expression made up of operators and operands\n",
    "\n",
    "expression is a combination of variables, operations and value that gives a result value "
   ]
  },
  {
   "cell_type": "code",
   "execution_count": null,
   "id": "216afcf9",
   "metadata": {},
   "outputs": [],
   "source": [
    "#5\n",
    "statement is like assigning value to a variable or a function call and expression is a combination of variables, operations and value that gives a result value "
   ]
  },
  {
   "cell_type": "code",
   "execution_count": null,
   "id": "b44f1b48",
   "metadata": {},
   "outputs": [],
   "source": [
    "#6\n",
    "bacon = 23"
   ]
  },
  {
   "cell_type": "code",
   "execution_count": null,
   "id": "2c053a32",
   "metadata": {},
   "outputs": [],
   "source": [
    "#7\n",
    "'spam'+'spamspam' and 'spam'*3 both will give same result\n",
    "'spamspamspam'"
   ]
  },
  {
   "cell_type": "raw",
   "id": "eeeac527",
   "metadata": {},
   "source": [
    "#8\n",
    "as per the naming convention variable name shouldn't start with a number that is why egg is valid variable name and 100 is invalid."
   ]
  },
  {
   "cell_type": "code",
   "execution_count": null,
   "id": "cb476e26",
   "metadata": {},
   "outputs": [],
   "source": [
    "#9\n",
    "int()\n",
    "float()\n",
    "str()"
   ]
  },
  {
   "cell_type": "code",
   "execution_count": 2,
   "id": "20b03357",
   "metadata": {},
   "outputs": [
    {
     "data": {
      "text/plain": [
       "'I have eaten99burritos.'"
      ]
     },
     "execution_count": 2,
     "metadata": {},
     "output_type": "execute_result"
    }
   ],
   "source": [
    "#10\n",
    "'''expression will cause TypeError beacuse integer is getting added with string\n",
    "to fix that'''\n",
    "'I have eaten' + str(99) + 'burritos.'"
   ]
  },
  {
   "cell_type": "code",
   "execution_count": null,
   "id": "0cd35d15",
   "metadata": {},
   "outputs": [],
   "source": []
  }
 ],
 "metadata": {
  "kernelspec": {
   "display_name": "Python 3 (ipykernel)",
   "language": "python",
   "name": "python3"
  },
  "language_info": {
   "codemirror_mode": {
    "name": "ipython",
    "version": 3
   },
   "file_extension": ".py",
   "mimetype": "text/x-python",
   "name": "python",
   "nbconvert_exporter": "python",
   "pygments_lexer": "ipython3",
   "version": "3.9.7"
  }
 },
 "nbformat": 4,
 "nbformat_minor": 5
}
